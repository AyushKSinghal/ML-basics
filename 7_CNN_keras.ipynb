{
 "cells": [
  {
   "cell_type": "code",
   "execution_count": 63,
   "metadata": {},
   "outputs": [],
   "source": [
    "# Importing the Keras libraries and packages\n",
    "from keras.models import Sequential\n",
    "from keras.layers import Conv2D\n",
    "from keras.layers import MaxPooling2D\n",
    "from keras.layers import Flatten\n",
    "from keras.layers import Dense"
   ]
  },
  {
   "cell_type": "code",
   "execution_count": 64,
   "metadata": {},
   "outputs": [],
   "source": [
    "# Initialising the CNN\n",
    "classifier = Sequential()"
   ]
  },
  {
   "cell_type": "code",
   "execution_count": 65,
   "metadata": {},
   "outputs": [],
   "source": [
    "# Step 1 - Convolution\n",
    "classifier.add(Conv2D(32, (3, 3), input_shape = (64, 64, 3), activation = 'relu'))\n",
    "\n",
    "# Step 2 - Pooling\n",
    "classifier.add(MaxPooling2D(pool_size = (2, 2)))\n",
    "\n",
    "# Adding a second convolutional layer\n",
    "classifier.add(Conv2D(32, (3, 3), activation = 'relu'))\n",
    "classifier.add(MaxPooling2D(pool_size = (2, 2)))\n",
    "\n",
    "# Step 3 - Flattening\n",
    "classifier.add(Flatten())"
   ]
  },
  {
   "cell_type": "code",
   "execution_count": 66,
   "metadata": {},
   "outputs": [],
   "source": [
    "# Step 4 - Full connection\n",
    "classifier.add(Dense(units = 128, activation = 'relu'))\n",
    "classifier.add(Dense(units = 1, activation = 'sigmoid'))"
   ]
  },
  {
   "cell_type": "code",
   "execution_count": 67,
   "metadata": {},
   "outputs": [
    {
     "data": {
      "text/plain": [
       "2742"
      ]
     },
     "execution_count": 67,
     "metadata": {},
     "output_type": "execute_result"
    }
   ],
   "source": [
    "# Compiling the CNN\n",
    "classifier.compile(optimizer = 'adam', loss = 'binary_crossentropy', metrics = ['accuracy'])\n",
    "json_string = classifier.to_json()\n",
    "f=open(\"model/model.json\", \"w+\")\n",
    "f.write(json_string)"
   ]
  },
  {
   "cell_type": "code",
   "execution_count": 68,
   "metadata": {},
   "outputs": [
    {
     "name": "stdout",
     "output_type": "stream",
     "text": [
      "Found 8000 images belonging to 2 classes.\n",
      "Found 2000 images belonging to 2 classes.\n",
      "Epoch 1/25\n",
      "250/250 [==============================] - 66s 262ms/step - loss: 0.6757 - acc: 0.5746 - val_loss: 0.6372 - val_acc: 0.6105\n",
      "Epoch 2/25\n",
      "250/250 [==============================] - 76s 304ms/step - loss: 0.6111 - acc: 0.6644 - val_loss: 0.5777 - val_acc: 0.7127\n",
      "Epoch 3/25\n",
      "250/250 [==============================] - 74s 297ms/step - loss: 0.5657 - acc: 0.7006 - val_loss: 0.6245 - val_acc: 0.6865\n",
      "Epoch 4/25\n",
      "250/250 [==============================] - 64s 256ms/step - loss: 0.5260 - acc: 0.7321 - val_loss: 0.5012 - val_acc: 0.7592\n",
      "Epoch 5/25\n",
      "250/250 [==============================] - 63s 253ms/step - loss: 0.5096 - acc: 0.7438 - val_loss: 0.5596 - val_acc: 0.7166\n",
      "Epoch 6/25\n",
      "250/250 [==============================] - 55s 220ms/step - loss: 0.4896 - acc: 0.7651 - val_loss: 0.4842 - val_acc: 0.7781\n",
      "Epoch 7/25\n",
      "250/250 [==============================] - 55s 220ms/step - loss: 0.4662 - acc: 0.7761 - val_loss: 0.4901 - val_acc: 0.7529\n",
      "Epoch 8/25\n",
      "250/250 [==============================] - 54s 218ms/step - loss: 0.4519 - acc: 0.7839 - val_loss: 0.4750 - val_acc: 0.7781\n",
      "Epoch 9/25\n",
      "250/250 [==============================] - 55s 222ms/step - loss: 0.4450 - acc: 0.7890 - val_loss: 0.4992 - val_acc: 0.7553\n",
      "Epoch 10/25\n",
      "250/250 [==============================] - 55s 220ms/step - loss: 0.4250 - acc: 0.7997 - val_loss: 0.4918 - val_acc: 0.7752\n",
      "Epoch 11/25\n",
      "250/250 [==============================] - 54s 215ms/step - loss: 0.4155 - acc: 0.8033 - val_loss: 0.4746 - val_acc: 0.7888\n",
      "Epoch 12/25\n",
      "250/250 [==============================] - 52s 209ms/step - loss: 0.3997 - acc: 0.8127 - val_loss: 0.4901 - val_acc: 0.7762\n",
      "Epoch 13/25\n",
      "250/250 [==============================] - 56s 225ms/step - loss: 0.3848 - acc: 0.8226 - val_loss: 0.4893 - val_acc: 0.7766\n",
      "Epoch 14/25\n",
      "250/250 [==============================] - 65s 259ms/step - loss: 0.3746 - acc: 0.8320 - val_loss: 0.4732 - val_acc: 0.7960\n",
      "Epoch 15/25\n",
      "250/250 [==============================] - 60s 240ms/step - loss: 0.3702 - acc: 0.8321 - val_loss: 0.4601 - val_acc: 0.7854\n",
      "Epoch 16/25\n",
      "250/250 [==============================] - 59s 235ms/step - loss: 0.3494 - acc: 0.8458 - val_loss: 0.4850 - val_acc: 0.7854\n",
      "Epoch 17/25\n",
      "250/250 [==============================] - 50s 201ms/step - loss: 0.3340 - acc: 0.8518 - val_loss: 0.5224 - val_acc: 0.7878\n",
      "Epoch 18/25\n",
      "250/250 [==============================] - 61s 242ms/step - loss: 0.3223 - acc: 0.8622 - val_loss: 0.5077 - val_acc: 0.7878\n",
      "Epoch 19/25\n",
      "250/250 [==============================] - 64s 256ms/step - loss: 0.3011 - acc: 0.8676 - val_loss: 0.5009 - val_acc: 0.8062\n",
      "Epoch 20/25\n",
      "250/250 [==============================] - 64s 254ms/step - loss: 0.2890 - acc: 0.8750 - val_loss: 0.5859 - val_acc: 0.7747\n",
      "Epoch 21/25\n",
      "250/250 [==============================] - 62s 246ms/step - loss: 0.2780 - acc: 0.8802 - val_loss: 0.4935 - val_acc: 0.7999\n",
      "Epoch 22/25\n",
      "250/250 [==============================] - 64s 258ms/step - loss: 0.2688 - acc: 0.8831 - val_loss: 0.5255 - val_acc: 0.7917\n",
      "Epoch 23/25\n",
      "250/250 [==============================] - 60s 239ms/step - loss: 0.2508 - acc: 0.8961 - val_loss: 0.5936 - val_acc: 0.7829\n",
      "Epoch 24/25\n",
      "250/250 [==============================] - 55s 218ms/step - loss: 0.2360 - acc: 0.9000 - val_loss: 0.5608 - val_acc: 0.8014\n",
      "Epoch 25/25\n",
      "250/250 [==============================] - 49s 195ms/step - loss: 0.2215 - acc: 0.9103 - val_loss: 0.5792 - val_acc: 0.7917\n"
     ]
    },
    {
     "data": {
      "text/plain": [
       "<keras.callbacks.History at 0xb27165fd0>"
      ]
     },
     "execution_count": 68,
     "metadata": {},
     "output_type": "execute_result"
    }
   ],
   "source": [
    "# Part 2 - Fitting the CNN to the images\n",
    "\n",
    "from keras.preprocessing.image import ImageDataGenerator\n",
    "\n",
    "train_datagen = ImageDataGenerator(rescale = 1./255,\n",
    "                                   shear_range = 0.2,\n",
    "                                   zoom_range = 0.2,\n",
    "                                   horizontal_flip = True)\n",
    "\n",
    "test_datagen = ImageDataGenerator(rescale = 1./255)\n",
    "\n",
    "training_set = train_datagen.flow_from_directory('dataset/cnn/training_set',\n",
    "                                                 target_size = (64, 64),\n",
    "                                                 batch_size = 32,\n",
    "                                                 class_mode = 'binary')\n",
    "\n",
    "test_set = test_datagen.flow_from_directory('dataset/cnn/test_set',\n",
    "                                            target_size = (64, 64),\n",
    "                                            batch_size = 32,\n",
    "                                            class_mode = 'binary')\n",
    "\n",
    "# classifier.fit_generator(training_set,\n",
    "#                          steps_per_epoch = 8000,\n",
    "#                          epochs = 25,\n",
    "#                          validation_data = test_set,\n",
    "#                          validation_steps = 2000)\n",
    "\n",
    "classifier.fit_generator(training_set,\n",
    "                        steps_per_epoch=250,\n",
    "                        epochs=25,\n",
    "                        validation_data=test_set,\n",
    "                        validation_steps=65)"
   ]
  },
  {
   "cell_type": "code",
   "execution_count": 73,
   "metadata": {},
   "outputs": [
    {
     "data": {
      "text/plain": [
       "'cat'"
      ]
     },
     "execution_count": 73,
     "metadata": {},
     "output_type": "execute_result"
    }
   ],
   "source": [
    "# Part 3 - Making new predictions\n",
    "\n",
    "import numpy as np\n",
    "from keras.preprocessing import image\n",
    "test_image = image.load_img('dataset/cnn/single_prediction/cat_or_dog_2.jpg', target_size = (64, 64))\n",
    "test_image = image.img_to_array(test_image)\n",
    "test_image = np.expand_dims(test_image, axis = 0)\n",
    "result = classifier.predict(test_image)\n",
    "training_set.class_indices\n",
    "if result[0][0] == 1:\n",
    "    prediction = 'dog'\n",
    "else:\n",
    "    prediction = 'cat'\n",
    "\n",
    "prediction"
   ]
  },
  {
   "cell_type": "code",
   "execution_count": 74,
   "metadata": {},
   "outputs": [],
   "source": [
    "classifier.save_weights('model/weights.txt')"
   ]
  },
  {
   "cell_type": "code",
   "execution_count": null,
   "metadata": {},
   "outputs": [],
   "source": []
  }
 ],
 "metadata": {
  "kernelspec": {
   "display_name": "Python 3",
   "language": "python",
   "name": "python3"
  },
  "language_info": {
   "codemirror_mode": {
    "name": "ipython",
    "version": 3
   },
   "file_extension": ".py",
   "mimetype": "text/x-python",
   "name": "python",
   "nbconvert_exporter": "python",
   "pygments_lexer": "ipython3",
   "version": "3.5.5"
  }
 },
 "nbformat": 4,
 "nbformat_minor": 2
}
